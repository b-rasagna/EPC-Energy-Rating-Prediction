{
 "cells": [
  {
   "cell_type": "code",
   "execution_count": 5,
   "id": "3a93e744",
   "metadata": {},
   "outputs": [
    {
     "name": "stderr",
     "output_type": "stream",
     "text": [
      "/tmp/ipykernel_35255/2267696774.py:4: DtypeWarning: Columns (15,37,83) have mixed types. Specify dtype option on import or set low_memory=False.\n",
      "  certificates = pd.read_csv('../data/certificates.csv')\n",
      "/tmp/ipykernel_35255/2267696774.py:56: SettingWithCopyWarning: \n",
      "A value is trying to be set on a copy of a slice from a DataFrame.\n",
      "Try using .loc[row_indexer,col_indexer] = value instead\n",
      "\n",
      "See the caveats in the documentation: https://pandas.pydata.org/pandas-docs/stable/user_guide/indexing.html#returning-a-view-versus-a-copy\n",
      "  lookup_df['ADDRESS_LOWER'] = lookup_df['PROPERTY_ADDRESS'].str.lower()\n"
     ]
    },
    {
     "name": "stdout",
     "output_type": "stream",
     "text": [
      "lookup_df generated and saved to '../models/epc_feature_lookup.csv'\n"
     ]
    }
   ],
   "source": [
    "import pandas as pd\n",
    "\n",
    "# Load the raw datasets\n",
    "certificates = pd.read_csv('../data/certificates.csv')\n",
    "recommendations = pd.read_csv('../data/recommendations.csv')\n",
    "\n",
    "# Aggregate recommendations\n",
    "reco_agg = recommendations.groupby(\"LMK_KEY\").agg({\n",
    "    \"IMPROVEMENT_ID\": \"nunique\",\n",
    "    \"IMPROVEMENT_SUMMARY_TEXT\": lambda x: ', '.join(set(x.dropna()))\n",
    "}).reset_index().rename(columns={\n",
    "    \"IMPROVEMENT_ID\": \"N_RECOMMENDATIONS\",\n",
    "    \"IMPROVEMENT_SUMMARY_TEXT\": \"ALL_RECOMMENDATIONS\"\n",
    "})\n",
    "\n",
    "# Merge datasets\n",
    "df_merged = pd.merge(certificates, reco_agg, on=\"LMK_KEY\", how=\"left\")\n",
    "\n",
    "# Encode energy ratings\n",
    "rating_map = {'A': 0, 'B': 1, 'C': 2, 'D': 3, 'E': 4, 'F': 5, 'G': 6}\n",
    "df_merged['CURRENT_ENERGY_RATING'] = df_merged['CURRENT_ENERGY_RATING'].map(rating_map)\n",
    "df_merged['POTENTIAL_ENERGY_RATING'] = df_merged['POTENTIAL_ENERGY_RATING'].map(rating_map)\n",
    "\n",
    "# Derived features\n",
    "df_merged['TOTAL_COST_CURRENT'] = df_merged[['LIGHTING_COST_CURRENT', 'HEATING_COST_CURRENT', 'HOT_WATER_COST_CURRENT']].sum(axis=1)\n",
    "df_merged['COST_PER_AREA'] = df_merged['TOTAL_COST_CURRENT'] / df_merged['TOTAL_FLOOR_AREA']\n",
    "df_merged['CO2_PER_AREA'] = df_merged['CO2_EMISSIONS_CURRENT'] / df_merged['TOTAL_FLOOR_AREA']\n",
    "\n",
    "# Create full address\n",
    "df_merged['PROPERTY_ADDRESS'] = df_merged[['ADDRESS1', 'ADDRESS2', 'ADDRESS3', 'POSTCODE']]\\\n",
    "    .fillna('')\\\n",
    "    .agg(', '.join, axis=1)\\\n",
    "    .str.replace(', ,', ',', regex=False)\\\n",
    "    .str.replace(', ,', ',', regex=False)\\\n",
    "    .str.strip(', ')\n",
    "\n",
    "# Drop missing values\n",
    "critical_cols = [\n",
    "    'POTENTIAL_ENERGY_RATING', 'CURRENT_ENERGY_RATING',\n",
    "    'TOTAL_COST_CURRENT', 'COST_PER_AREA', 'CO2_PER_AREA',\n",
    "    'LMK_KEY', 'PROPERTY_ADDRESS'\n",
    "]\n",
    "df_merged.dropna(subset=critical_cols, inplace=True)\n",
    "\n",
    "# Keep only final 15 features + ID/address fields\n",
    "final_feature_cols = [\n",
    "    'CURRENT_ENERGY_RATING', 'CO2_PER_AREA', 'TOTAL_FLOOR_AREA',\n",
    "    'MULTI_GLAZE_PROPORTION', 'EXTENSION_COUNT', 'NUMBER_HABITABLE_ROOMS',\n",
    "    'LOW_ENERGY_LIGHTING', 'NUMBER_OPEN_FIREPLACES', 'FLOOR_HEIGHT',\n",
    "    'PHOTO_SUPPLY', 'FIXED_LIGHTING_OUTLETS_COUNT', 'REPORT_TYPE',\n",
    "    'N_RECOMMENDATIONS', 'TOTAL_COST_CURRENT', 'COST_PER_AREA'\n",
    "]\n",
    "\n",
    "# Build final lookup_df\n",
    "lookup_df = df_merged[['LMK_KEY', 'PROPERTY_ADDRESS'] + final_feature_cols]\n",
    "lookup_df['ADDRESS_LOWER'] = lookup_df['PROPERTY_ADDRESS'].str.lower()\n",
    "lookup_df.set_index('LMK_KEY', inplace=True)\n",
    "\n",
    "# Save\n",
    "lookup_df.to_csv('../models/epc_feature_lookup.csv')\n",
    "print(\"lookup_df generated and saved to '../models/epc_feature_lookup.csv'\")"
   ]
  },
  {
   "cell_type": "code",
   "execution_count": null,
   "id": "df830da4",
   "metadata": {},
   "outputs": [],
   "source": []
  }
 ],
 "metadata": {
  "kernelspec": {
   "display_name": ".venv",
   "language": "python",
   "name": "python3"
  },
  "language_info": {
   "codemirror_mode": {
    "name": "ipython",
    "version": 3
   },
   "file_extension": ".py",
   "mimetype": "text/x-python",
   "name": "python",
   "nbconvert_exporter": "python",
   "pygments_lexer": "ipython3",
   "version": "3.12.3"
  }
 },
 "nbformat": 4,
 "nbformat_minor": 5
}
